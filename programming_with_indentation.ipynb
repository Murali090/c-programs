{
  "cells": [
    {
      "cell_type": "markdown",
      "metadata": {
        "id": "view-in-github",
        "colab_type": "text"
      },
      "source": [
        "<a href=\"https://colab.research.google.com/github/Murali090/c-programs/blob/main/programming_with_indentation.ipynb\" target=\"_parent\"><img src=\"https://colab.research.google.com/assets/colab-badge.svg\" alt=\"Open In Colab\"/></a>"
      ]
    },
    {
      "cell_type": "code",
      "execution_count": 1,
      "id": "0ed85207",
      "metadata": {
        "colab": {
          "base_uri": "https://localhost:8080/",
          "height": 131
        },
        "id": "0ed85207",
        "outputId": "f68b9665-c29b-470f-aee1-ae51a42b514b"
      },
      "outputs": [
        {
          "output_type": "error",
          "ename": "IndentationError",
          "evalue": "ignored",
          "traceback": [
            "\u001b[0;36m  File \u001b[0;32m\"<ipython-input-1-547b5c068a23>\"\u001b[0;36m, line \u001b[0;32m2\u001b[0m\n\u001b[0;31m    a=int(input(\"enter 1ST number\"))\u001b[0m\n\u001b[0m    ^\u001b[0m\n\u001b[0;31mIndentationError\u001b[0m\u001b[0;31m:\u001b[0m unexpected indent\n"
          ]
        }
      ],
      "source": [
        "#maximum of 3 numbers dynamic \n",
        "    a=int(input(\"enter 1ST number\"))\n",
        "    b=int(input(\"enter 2nd number \"))\n",
        "    c=int(input(\"enter 3rd number\"))\n",
        "    if(a>b and a>c):\n",
        "        print(\"a is greater \")\n",
        "    elif(b>a and b>c):\n",
        "        print(\"b is greater \")\n",
        "    else:\n",
        "        print(\"c is greater\")\n",
        "        "
      ]
    },
    {
      "cell_type": "markdown",
      "source": [
        "enter 5 subject marks and find which one is greater \n"
      ],
      "metadata": {
        "id": "bjGiuaJ7V0DS"
      },
      "id": "bjGiuaJ7V0DS"
    },
    {
      "cell_type": "code",
      "source": [
        "4a=int(input(\"enter 1ST subject marks\"))\n",
        "b=int(input(\"enter 2nd subject marks\"))\n",
        "c=int(input(\"enter 3rd subject marks\"))\n",
        "d=int(input(\"enter 4th  subject marks\"))\n",
        "e=int(input(\"enter 5th subject marks\"))\n",
        "if(a>b and a>c and a>d and a>e):\n",
        "    print(\"a is highest \")\n",
        "elif(b>a and b>c and b>d and b>e ):\n",
        "    print(\"b is highest\")\n",
        "elif(c>a and c>b and c>d and c>e):\n",
        "   print(\"c is highest \")\n",
        "elif(d>a and d>b and d>c and d>e):\n",
        "   print(\"d is highest\")\n",
        "else:\n",
        "        print(\"e is greater\")\n",
        "sum=a+b+c+d+e\n",
        "avg=a+b+c+d+e/5\n",
        "print(\"the sum is\",sum)\n",
        "print(\"the avg\",avg)        "
      ],
      "metadata": {
        "colab": {
          "base_uri": "https://localhost:8080/"
        },
        "id": "wgWTDCMoXZuM",
        "outputId": "dcc38d3b-a528-4812-f7dd-d3b58a26f284"
      },
      "id": "wgWTDCMoXZuM",
      "execution_count": 17,
      "outputs": [
        {
          "output_type": "stream",
          "name": "stdout",
          "text": [
            "enter 1ST subject marks50\n",
            "enter 2nd subject marks60\n",
            "enter 3rd subject marks80\n",
            "enter 4th  subject marks70\n",
            "enter 5th subject marks0\n",
            "c is highest \n",
            "the sum is 260\n",
            "the avg 260.0\n"
          ]
        }
      ]
    },
    {
      "cell_type": "markdown",
      "source": [
        "code for triangle 2"
      ],
      "metadata": {
        "id": "EA1mP3egZvJQ"
      },
      "id": "EA1mP3egZvJQ"
    },
    {
      "cell_type": "markdown",
      "source": [
        ""
      ],
      "metadata": {
        "id": "sb1xPdSAao0X"
      },
      "id": "sb1xPdSAao0X"
    },
    {
      "cell_type": "code",
      "source": [
        "a=int(input(\"1st side\"))\n",
        "b=int(input(\"2nd side\"))\n",
        "c=int(input(\"3rd side\"))\n",
        "if(a==b & a==c):\n",
        "  print(\"equilateral triangle\")\n",
        "elif(a==b & a!=c):\n",
        "  print(\"isoceles triangle\")\n",
        "else:\n",
        "  print(\"scalene triangle\")"
      ],
      "metadata": {
        "colab": {
          "base_uri": "https://localhost:8080/"
        },
        "id": "hAOMzEU9Zr2x",
        "outputId": "3c2649a2-576b-4d76-8be1-e9c834a54155"
      },
      "id": "hAOMzEU9Zr2x",
      "execution_count": 15,
      "outputs": [
        {
          "output_type": "stream",
          "name": "stdout",
          "text": [
            "1st side20\n",
            "2nd side10\n",
            "3rd side30\n",
            "isoceles triangle\n"
          ]
        }
      ]
    },
    {
      "cell_type": "code",
      "execution_count": 13,
      "id": "80c569b1",
      "metadata": {
        "colab": {
          "base_uri": "https://localhost:8080/",
          "height": 131
        },
        "id": "80c569b1",
        "outputId": "4d1a346a-9289-46ff-fd5a-1f7bbfb9a623"
      },
      "outputs": [
        {
          "output_type": "error",
          "ename": "IndentationError",
          "evalue": "ignored",
          "traceback": [
            "\u001b[0;36m  File \u001b[0;32m\"<ipython-input-13-3859d05d5e4b>\"\u001b[0;36m, line \u001b[0;32m9\u001b[0m\n\u001b[0;31m    else:\u001b[0m\n\u001b[0m         ^\u001b[0m\n\u001b[0;31mIndentationError\u001b[0m\u001b[0;31m:\u001b[0m unindent does not match any outer indentation level\n"
          ]
        }
      ],
      "source": [
        "\n",
        "a=10\n",
        "b=20\n",
        "c=60\n",
        "if(a>b and a>c):\n",
        "        print(\"a is greater \")\n",
        "elif(b>a and b>c):\n",
        "        print(\"b is greater \")\n",
        " else:\n",
        "    print(\"c is greater\")\n",
        "        "
      ]
    },
    {
      "cell_type": "markdown",
      "id": "d8b1daa9",
      "metadata": {
        "id": "d8b1daa9"
      },
      "source": [
        "## findout the person is eligible for voting or not"
      ]
    },
    {
      "cell_type": "code",
      "execution_count": 2,
      "id": "6bd91d8b",
      "metadata": {
        "colab": {
          "base_uri": "https://localhost:8080/"
        },
        "id": "6bd91d8b",
        "outputId": "e66131db-1014-4be8-8379-bf8a4719f33c"
      },
      "outputs": [
        {
          "output_type": "stream",
          "name": "stdout",
          "text": [
            "enter your age20\n",
            "eligible for voting\n"
          ]
        }
      ],
      "source": [
        "a=int(input(\"enter your age\"))  \n",
        "if(a>=18):\n",
        "    print(\"eligible for voting\")\n",
        "else:\n",
        "    print(\"not eligible for voting\")"
      ]
    },
    {
      "cell_type": "code",
      "execution_count": null,
      "id": "17c9aa60",
      "metadata": {
        "id": "17c9aa60"
      },
      "outputs": [],
      "source": [
        ""
      ]
    }
  ],
  "metadata": {
    "kernelspec": {
      "display_name": "Python 3 (ipykernel)",
      "language": "python",
      "name": "python3"
    },
    "language_info": {
      "codemirror_mode": {
        "name": "ipython",
        "version": 3
      },
      "file_extension": ".py",
      "mimetype": "text/x-python",
      "name": "python",
      "nbconvert_exporter": "python",
      "pygments_lexer": "ipython3",
      "version": "3.9.7"
    },
    "colab": {
      "name": "programming with indentation.ipynb",
      "provenance": [],
      "collapsed_sections": [],
      "include_colab_link": true
    }
  },
  "nbformat": 4,
  "nbformat_minor": 5
}